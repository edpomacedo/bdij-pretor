{
 "cells": [
  {
   "cell_type": "code",
   "execution_count": null,
   "metadata": {},
   "outputs": [],
   "source": [
    "import mwapi\n",
    "\n",
    "# Criar uma instância do cliente da API do MediaWiki\n",
    "session = mwapi.Session('https://pt.wikipedia.org/w/api.php', user_agent='my_bot/1.0')\n",
    "\n",
    "# Exemplo de solicitação para obter o conteúdo de uma página\n",
    "response = session.get(action='query', titles='Python', prop='revisions', rvprop='content')\n",
    "\n",
    "# Exibir o conteúdo da página\n",
    "pages = response['query']['pages']\n",
    "page_id = list(pages.keys())[0]\n",
    "content = pages[page_id]['revisions'][0]['*']\n",
    "print(content)"
   ]
  }
 ],
 "metadata": {
  "language_info": {
   "name": "python"
  }
 },
 "nbformat": 4,
 "nbformat_minor": 2
}
