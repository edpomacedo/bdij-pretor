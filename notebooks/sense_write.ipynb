{
 "cells": [
  {
   "cell_type": "code",
   "execution_count": 3,
   "metadata": {},
   "outputs": [],
   "source": [
    "# Pretor/1.8 - @edpomacedo - notebooks/sense_write.py\n",
    "from wikibaseintegrator import WikibaseIntegrator, wbi_login\n",
    "from wikibaseintegrator.models import Sense\n",
    "from wikibaseintegrator.wbi_config import config"
   ]
  },
  {
   "cell_type": "code",
   "execution_count": 4,
   "metadata": {},
   "outputs": [],
   "source": [
    "WDUSER = ''\n",
    "WDPASS = ''"
   ]
  },
  {
   "cell_type": "code",
   "execution_count": 5,
   "metadata": {},
   "outputs": [],
   "source": [
    "config['MEDIAWIKI_API_URL'] = 'https://web.bdij.com.br/w/api.php'\n",
    "config['USER_AGENT'] = 'Pretor/1.0 (https://web.bdij.com.br/User:Pretor; pretor@bdij.com.br)'"
   ]
  },
  {
   "cell_type": "code",
   "execution_count": null,
   "metadata": {},
   "outputs": [],
   "source": [
    "login = wbi_login.Login(user=WDUSER, password=WDPASS, mediawiki_api_url='https://web.bdij.com.br/w/api.php')\n",
    "wbi = WikibaseIntegrator(login=login)"
   ]
  },
  {
   "cell_type": "code",
   "execution_count": 8,
   "metadata": {},
   "outputs": [],
   "source": [
    "def inserir_dispositivo_legal():\n",
    "    lexeme = wbi.lexeme.get(entity_id='L8299')\n",
    "    \n",
    "    sense = Sense()\n",
    "    sense.glosses.set(language='pt-br', value='ARQUIVO_DE_TEXTO2')\n",
    "    \n",
    "    lexeme.senses.add(sense)\n",
    "    \n",
    "    lexeme.write()"
   ]
  },
  {
   "cell_type": "code",
   "execution_count": 9,
   "metadata": {},
   "outputs": [],
   "source": [
    "if __name__ == \"__main__\":\n",
    "    inserir_dispositivo_legal()"
   ]
  }
 ],
 "metadata": {
  "kernelspec": {
   "display_name": "venv",
   "language": "python",
   "name": "python3"
  },
  "language_info": {
   "codemirror_mode": {
    "name": "ipython",
    "version": 3
   },
   "file_extension": ".py",
   "mimetype": "text/x-python",
   "name": "python",
   "nbconvert_exporter": "python",
   "pygments_lexer": "ipython3",
   "version": "3.12.0"
  }
 },
 "nbformat": 4,
 "nbformat_minor": 2
}
