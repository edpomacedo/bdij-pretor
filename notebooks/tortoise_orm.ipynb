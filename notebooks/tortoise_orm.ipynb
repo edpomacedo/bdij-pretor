{
 "cells": [
  {
   "cell_type": "code",
   "execution_count": null,
   "metadata": {},
   "outputs": [],
   "source": [
    "from tortoise import Tortoise, fields\n",
    "from tortoise.models import Model\n",
    "\n",
    "class User(Model):\n",
    "    id = fields.IntField(pk=True)\n",
    "    username = fields.CharField(max_length=50)\n",
    "    email = fields.CharField(max_length=100)\n",
    "\n",
    "async def init():\n",
    "    await Tortoise.init(\n",
    "        db_url='sqlite://db.sqlite3',\n",
    "        modules={'models': ['seu_arquivo.py']},\n",
    "    )\n",
    "    await Tortoise.generate_schemas()\n",
    "\n",
    "async def create_user():\n",
    "    user = await User.create(username='john_doe', email='john@example.com')\n",
    "    print(f'User {user.id} created.')\n",
    "\n",
    "async def fetch_users():\n",
    "    users = await User.all()\n",
    "    for user in users:\n",
    "        print(f'User ID: {user.id}, Username: {user.username}, Email: {user.email}')\n",
    "\n",
    "async def main():\n",
    "    await init()\n",
    "    await create_user()\n",
    "    await fetch_users()\n",
    "\n",
    "if __name__ == \"__main__\":\n",
    "    import asyncio\n",
    "    asyncio.run(main())"
   ]
  }
 ],
 "metadata": {
  "language_info": {
   "name": "python"
  }
 },
 "nbformat": 4,
 "nbformat_minor": 2
}
